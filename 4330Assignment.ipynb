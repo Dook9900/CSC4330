{
 "cells": [
  {
   "cell_type": "code",
   "execution_count": 5,
   "metadata": {
    "colab": {
     "base_uri": "https://localhost:8080/"
    },
    "id": "BsCCBOXD6rqB",
    "outputId": "4a83aa8a-2e1a-4b52-cb0c-b20255aef136"
   },
   "outputs": [
    {
     "name": "stderr",
     "output_type": "stream",
     "text": [
      ".....\n",
      "----------------------------------------------------------------------\n",
      "Ran 5 tests in 0.007s\n",
      "\n",
      "OK\n"
     ]
    },
    {
     "data": {
      "text/plain": [
       "<unittest.runner.TextTestResult run=5 errors=0 failures=0>"
      ]
     },
     "execution_count": 5,
     "metadata": {},
     "output_type": "execute_result"
    }
   ],
   "source": [
    "def quick_sort(array):\n",
    "    if len(array) <= 1:\n",
    "        return array\n",
    "    pivot = array[len(array) // 2]\n",
    "    left = [x for x in array if x < pivot]\n",
    "    middle = [x for x in array if x == pivot]\n",
    "    right = [x for x in array if x > pivot]\n",
    "    return quick_sort(left) + middle + quick_sort(right)\n",
    "\n",
    "import unittest\n",
    "\n",
    "class TestQuickSort(unittest.TestCase):\n",
    "\n",
    "    def test_positivecase(self):\n",
    "        self.assertEqual(quick_sort([8, 3, 7, 2, 9, 1, 4, 6]), [1, 2, 3, 4, 6, 7, 8, 9])\n",
    "\n",
    "    def test_negativecase(self):\n",
    "        with self.assertRaises(TypeError):\n",
    "            quick_sort([3, 'a', 4, 2])\n",
    "\n",
    "    def test_performancecase(self):\n",
    "        large_array = list(range(1000, 0, -1))\n",
    "        self.assertEqual(quick_sort(large_array), list(range(1, 1001)))\n",
    "\n",
    "    def test_boundarycase(self):\n",
    "        self.assertEqual(quick_sort([]), [])\n",
    "        self.assertEqual(quick_sort([1]), [1])\n",
    "\n",
    "    def test_idempotencycase(self):\n",
    "        sorted_array = [1, 2, 3, 4, 5]\n",
    "        self.assertEqual(quick_sort(sorted_array), sorted_array)\n",
    "        self.assertEqual(quick_sort(quick_sort(sorted_array)), sorted_array)\n",
    "\n",
    "unittest.TextTestRunner().run(unittest.TestLoader().loadTestsFromTestCase(TestQuickSort))\n"
   ]
  }
 ],
 "metadata": {
  "colab": {
   "provenance": []
  },
  "kernelspec": {
   "display_name": "Python 3",
   "name": "python3"
  },
  "language_info": {
   "codemirror_mode": {
    "name": "ipython",
    "version": 3
   },
   "file_extension": ".py",
   "mimetype": "text/x-python",
   "name": "python",
   "nbconvert_exporter": "python",
   "pygments_lexer": "ipython3",
   "version": "3.12.1"
  }
 },
 "nbformat": 4,
 "nbformat_minor": 0
}
