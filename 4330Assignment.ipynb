{
  "nbformat": 4,
  "nbformat_minor": 0,
  "metadata": {
    "colab": {
      "provenance": []
    },
    "kernelspec": {
      "name": "python3",
      "display_name": "Python 3"
    },
    "language_info": {
      "name": "python"
    }
  },
  "cells": [
    {
      "cell_type": "code",
      "execution_count": 8,
      "metadata": {
        "colab": {
          "base_uri": "https://localhost:8080/"
        },
        "id": "BsCCBOXD6rqB",
        "outputId": "4a83aa8a-2e1a-4b52-cb0c-b20255aef136"
      },
      "outputs": [
        {
          "output_type": "stream",
          "name": "stderr",
          "text": [
            ".....\n",
            "----------------------------------------------------------------------\n",
            "Ran 5 tests in 0.014s\n",
            "\n",
            "OK\n"
          ]
        },
        {
          "output_type": "execute_result",
          "data": {
            "text/plain": [
              "<unittest.runner.TextTestResult run=5 errors=0 failures=0>"
            ]
          },
          "metadata": {},
          "execution_count": 8
        }
      ],
      "source": [
        "def quick_sort(array):\n",
        "    if len(array) <= 1:\n",
        "        return array\n",
        "    pivot = array[len(array) // 2]\n",
        "    left = [x for x in array if x < pivot]\n",
        "    middle = [x for x in array if x == pivot]\n",
        "    right = [x for x in array if x > pivot]\n",
        "    return quick_sort(left) + middle + quick_sort(right)\n",
        "\n",
        "import unittest\n",
        "\n",
        "class TestQuickSort(unittest.TestCase):\n",
        "\n",
        "    def test_positivecase(self):\n",
        "        self.assertEqual(quick_sort([3, 1, 4, 1, 5, 9, 2, 6, 5, 3]), [1, 1, 2, 3, 3, 4, 5, 5, 6, 9])\n",
        "\n",
        "    def test_negativecase(self):\n",
        "        with self.assertRaises(TypeError):\n",
        "            quick_sort([3, 'a', 4, 2])\n",
        "\n",
        "    def test_performancecase(self):\n",
        "        large_array = list(range(1000, 0, -1))\n",
        "        self.assertEqual(quick_sort(large_array), list(range(1, 1001)))\n",
        "\n",
        "    def test_boundarycase(self):\n",
        "        self.assertEqual(quick_sort([]), [])\n",
        "        self.assertEqual(quick_sort([1]), [1])\n",
        "\n",
        "    def test_idempotencycase(self):\n",
        "        sorted_array = [1, 2, 3, 4, 5]\n",
        "        self.assertEqual(quick_sort(sorted_array), sorted_array)\n",
        "        self.assertEqual(quick_sort(quick_sort(sorted_array)), sorted_array)\n",
        "\n",
        "unittest.TextTestRunner().run(unittest.TestLoader().loadTestsFromTestCase(TestQuickSort))\n"
      ]
    }
  ]
}